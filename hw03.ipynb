{
 "cells": [
  {
   "cell_type": "code",
   "execution_count": 1,
   "id": "cb181bac",
   "metadata": {},
   "outputs": [
    {
     "name": "stdout",
     "output_type": "stream",
     "text": [
      "to json successed\n",
      "to csv successed\n"
     ]
    }
   ],
   "source": [
    "import requests\n",
    "from bs4 import BeautifulSoup\n",
    "import pandas as pd\n",
    "import json\n",
    "\n",
    "url=\"https://www.ptt.cc/bbs/NBA/index.html\"\n",
    "headers={'User-Agent': 'Mozilla/5.0 (Windows NT 10.0; Win64; x64) AppleWebKit/537.36 (KHTML, like Gecko) Chrome/123.0.0.0 Safari/537.36'}\n",
    "response=requests.get(url, headers=headers)\n",
    "soup=BeautifulSoup(response.text, \"html.parser\")\n",
    "\n",
    "data_list=[]\n",
    "\n",
    "df_title=[]\n",
    "df_popular=[]\n",
    "df_date=[]\n",
    "\n",
    "articles=soup.find_all(\"div\", class_=\"r-ent\")\n",
    "for a in articles:\n",
    "    \n",
    "    data={}\n",
    "    \n",
    "    title=a.find(\"div\", class_=\"title\")\n",
    "    if title and title.a:\n",
    "        title=title.a.text\n",
    "    else:\n",
    "        title=\"沒有標題\"\n",
    "    data[\"標題\"]=title\n",
    "    \n",
    "    popular=a.find(\"div\", class_=\"nrec\")\n",
    "    if popular and popular.span:\n",
    "        popular=popular.span.text\n",
    "    else:\n",
    "        popular=-1\n",
    "    data[\"人氣\"]=popular\n",
    "    \n",
    "    date=a.find(\"div\", class_=\"date\")\n",
    "    if date:\n",
    "        date=date.text\n",
    "    else:\n",
    "        date=-1\n",
    "    data[\"日期\"]=date\n",
    "    \n",
    "    data_list.append(data)\n",
    "    \n",
    "    df_title.append(title)\n",
    "    df_popular.append(popular)\n",
    "    df_date.append(date)\n",
    "    \n",
    "\n",
    "with open(\"ptt_nba_data.json\", \"w\", encoding=\"utf-8\") as file:\n",
    "    json.dump(data_list, file, ensure_ascii=False, indent=4)\n",
    "print(\"to json successed\")\n",
    "\n",
    "df_data = {'標題': df_title, '人氣': df_popular, '日期': df_date}\n",
    "df = pd.DataFrame(df_data)\n",
    "df.to_csv('ppt_nba_data.csv', index=False, encoding=\"utf-8-sig\")\n",
    "print(\"to csv successed\")\n"
   ]
  },
  {
   "cell_type": "code",
   "execution_count": null,
   "id": "3f075188",
   "metadata": {},
   "outputs": [],
   "source": []
  }
 ],
 "metadata": {
  "kernelspec": {
   "display_name": "Python 3 (ipykernel)",
   "language": "python",
   "name": "python3"
  },
  "language_info": {
   "codemirror_mode": {
    "name": "ipython",
    "version": 3
   },
   "file_extension": ".py",
   "mimetype": "text/x-python",
   "name": "python",
   "nbconvert_exporter": "python",
   "pygments_lexer": "ipython3",
   "version": "3.11.5"
  }
 },
 "nbformat": 4,
 "nbformat_minor": 5
}
