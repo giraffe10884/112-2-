{
 "cells": [
  {
   "cell_type": "code",
   "execution_count": 4,
   "id": "91b174b0",
   "metadata": {},
   "outputs": [
    {
     "name": "stdout",
     "output_type": "stream",
     "text": [
      "2023年和2024年的撞球世界排名中，共有34位選手\n",
      "2023年和2024年的撞球世界排名中，共有6位選手名稱在兩年中重複\n",
      "2023年的排名中有14位選手在2024年的排名中不見了\n",
      "2024年的排名中有14位新的選手出現\n"
     ]
    }
   ],
   "source": [
    "import pandas as pd\n",
    "\n",
    "# 讀取2023年的撞球世界排名CSV檔案\n",
    "df_2023 = pd.read_csv('2023_world_pool_rankings.csv')\n",
    "\n",
    "# 讀取2024年的撞球世界排名CSV檔案\n",
    "df_2024 = pd.read_csv('2024_world_pool_rankings.csv')\n",
    "\n",
    "# 重命名列名\n",
    "df_2023 = df_2023.rename(columns={'Name': 'Player'})\n",
    "df_2024 = df_2024.rename(columns={'Name': 'Player'})\n",
    "\n",
    "# 聯集\n",
    "union = set_2023.union(set_2024)\n",
    "\n",
    "# 交集\n",
    "intersection = set_2023.intersection(set_2024)\n",
    "\n",
    "# 差集\n",
    "difference_2023 = set_2023.difference(set_2024)\n",
    "difference_2024 = set_2024.difference(set_2023)\n",
    "\n",
    "print(\"2023年和2024年的撞球世界排名中，共有{}位選手\".format(len(union)))\n",
    "print(\"2023年和2024年的撞球世界排名中，共有{}位選手名稱在兩年中重複\".format(len(intersection)))\n",
    "print(\"2023年的排名中有{}位選手在2024年的排名中不見了\".format(len(difference_2023)))\n",
    "print(\"2024年的排名中有{}位新的選手出現\".format(len(difference_2024)))"
   ]
  },
  {
   "cell_type": "code",
   "execution_count": null,
   "id": "1216d408",
   "metadata": {},
   "outputs": [],
   "source": []
  }
 ],
 "metadata": {
  "kernelspec": {
   "display_name": "Python 3 (ipykernel)",
   "language": "python",
   "name": "python3"
  },
  "language_info": {
   "codemirror_mode": {
    "name": "ipython",
    "version": 3
   },
   "file_extension": ".py",
   "mimetype": "text/x-python",
   "name": "python",
   "nbconvert_exporter": "python",
   "pygments_lexer": "ipython3",
   "version": "3.11.5"
  }
 },
 "nbformat": 4,
 "nbformat_minor": 5
}
